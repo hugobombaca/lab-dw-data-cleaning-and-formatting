{
 "cells": [
  {
   "cell_type": "code",
   "execution_count": 188,
   "metadata": {},
   "outputs": [
    {
     "name": "stdout",
     "output_type": "stream",
     "text": [
      "2           Nevada\n",
      "3       California\n",
      "4       Washington\n",
      "5           Oregon\n",
      "6           Oregon\n",
      "           ...    \n",
      "1065    California\n",
      "1066        Oregon\n",
      "1067    California\n",
      "1069    California\n",
      "1070    California\n",
      "Name: state, Length: 780, dtype: object\n"
     ]
    }
   ],
   "source": [
    "import numpy as py\n",
    "import pandas as pd\n",
    "from fuzzywuzzy import process\n",
    "correct_values = {\"male\":\"M\",\"female\":\"F\",\"femal\":\"F\",\"m\":\"M\",\"f\":\"F\"}\n",
    "correct_values2={\"AZ\":\"Arizona\",\"Cali\":\"California\",\"WA\":\"Washington\",\"Oregon\":\"Oregon\",\"Nevada\":\"Nevada\"}\n",
    "correct_values3=[\"Sports Car\",\"Luxury SUV\",\"Luxury Car\"]\n",
    "ratio = 90\n",
    "url = \"https://raw.githubusercontent.com/data-bootcamp-v4/data/main/file1.csv\"\n",
    "df = pd.read_csv(url)\n",
    "\n",
    "df.rename(columns=lambda x:x.lower(),inplace=True)\n",
    "df.rename(columns=lambda x:x.replace(\" \",\"_\"),inplace=True)\n",
    "df.rename(columns={\"st\":\"state\"},inplace=True)\n",
    "df[\"education\"]=df[\"education\"].replace({\"Bachelors\":\"Bachelor\"})\n",
    "df[\"gender\"]=df[\"gender\"].str.lower()\n",
    "df[\"number_of_open_complaints\"]=df[\"number_of_open_complaints\"].str.split(\"/\").str[1]#splits the strings based on where the \"/\" is and the with .str[1] it then stores the 2nd value wich is what i want!\n",
    "def FUZZYWUZYY(gender):#best name ever for a library btw\n",
    "    if pd.notna(gender):\n",
    "        match, minratio=process.extractOne(gender, correct_values.keys())#process.extractOne is a method from the fuzzy library that finds the best macth\n",
    "        return correct_values[match] if minratio>=ratio else None#result[0] is the best matching srting\n",
    "    else:\n",
    "        return None\n",
    "def FUZZYWUZYYState(state):\n",
    "    if pd.notna(state):\n",
    "        match, minratio=process.extractOne(state,correct_values2.keys())\n",
    "        return correct_values2[match] if minratio>=ratio else None\n",
    "    else:\n",
    "        return None\n",
    "df[\"state\"] = df[\"state\"].apply(FUZZYWUZYYState)\n",
    "df[\"gender\"] = df[\"gender\"].apply(FUZZYWUZYY)\n",
    "df[\"vehicle_class\"] = df[\"vehicle_class\"].apply(lambda x:\"Luxury\" if x in correct_values3 else x)\n",
    "df[\"customer_lifetime_value\"] = df[\"customer_lifetime_value\"].str.replace(\"%\",\"\")\n",
    "df[\"customer_lifetime_value\"] = pd.to_numeric(df[\"customer_lifetime_value\"],errors=\"coerce\")\n",
    "df[\"number_of_open_complaints\"] = pd.to_numeric(df[\"number_of_open_complaints\"],errors=\"coerce\")\n",
    "whytho=[\"gender\",\"state\",\"total_claim_amount\"]\n",
    "df.dropna(subset=whytho, how='any', inplace=True)\n",
    "df[\"income\"] = df[\"income\"].fillna(df.groupby(\"policy_type\")[\"income\"].mean)\n",
    "print(df[\"state\"])"
   ]
  },
  {
   "cell_type": "code",
   "execution_count": 185,
   "metadata": {},
   "outputs": [
    {
     "name": "stdout",
     "output_type": "stream",
     "text": [
      "object\n"
     ]
    }
   ],
   "source": [
    "print(df[\"gender\"].dtypes)"
   ]
  },
  {
   "cell_type": "code",
   "execution_count": 189,
   "metadata": {},
   "outputs": [
    {
     "name": "stdout",
     "output_type": "stream",
     "text": [
      "customer                     0\n",
      "state                        0\n",
      "gender                       0\n",
      "education                    0\n",
      "customer_lifetime_value      2\n",
      "income                       0\n",
      "monthly_premium_auto         0\n",
      "number_of_open_complaints    0\n",
      "policy_type                  0\n",
      "vehicle_class                0\n",
      "total_claim_amount           0\n",
      "dtype: int64\n"
     ]
    },
    {
     "data": {
      "text/plain": [
       "Index(['customer', 'state', 'gender', 'education', 'customer_lifetime_value',\n",
       "       'income', 'monthly_premium_auto', 'number_of_open_complaints',\n",
       "       'policy_type', 'vehicle_class', 'total_claim_amount'],\n",
       "      dtype='object')"
      ]
     },
     "execution_count": 189,
     "metadata": {},
     "output_type": "execute_result"
    }
   ],
   "source": [
    "#df.columns\n",
    "#df[\"number_of_open_complaints\"].dtypes\n",
    "#print(df[\"income\"])\n",
    "#x=df.groupby(\"policy_type\")[\"income\"].mean\n",
    "#df[\"income\"] = df[\"income\"].fillna(x)\n",
    "#print(df[\"income\"].value_counts())\n",
    "#print(df[\"policy_type\"].value_counts())\n",
    "print(df.isnull().sum())\n",
    "df.columns\n"
   ]
  }
 ],
 "metadata": {
  "kernelspec": {
   "display_name": "base",
   "language": "python",
   "name": "python3"
  },
  "language_info": {
   "codemirror_mode": {
    "name": "ipython",
    "version": 3
   },
   "file_extension": ".py",
   "mimetype": "text/x-python",
   "name": "python",
   "nbconvert_exporter": "python",
   "pygments_lexer": "ipython3",
   "version": "3.11.5"
  }
 },
 "nbformat": 4,
 "nbformat_minor": 2
}
